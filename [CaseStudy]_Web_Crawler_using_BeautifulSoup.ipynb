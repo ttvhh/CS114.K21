{
  "nbformat": 4,
  "nbformat_minor": 0,
  "metadata": {
    "colab": {
      "name": "[CaseStudy]_Web_Crawler_using_BeautifulSoup.ipynb",
      "provenance": [],
      "collapsed_sections": [],
      "authorship_tag": "ABX9TyPsV87/2L9uenEpQh00F/hw",
      "include_colab_link": true
    },
    "kernelspec": {
      "name": "python3",
      "display_name": "Python 3"
    }
  },
  "cells": [
    {
      "cell_type": "markdown",
      "metadata": {
        "id": "view-in-github",
        "colab_type": "text"
      },
      "source": [
        "<a href=\"https://colab.research.google.com/github/ttvhh/CS114.K21/blob/master/%5BCaseStudy%5D_Web_Crawler_using_BeautifulSoup.ipynb\" target=\"_parent\"><img src=\"https://colab.research.google.com/assets/colab-badge.svg\" alt=\"Open In Colab\"/></a>"
      ]
    },
    {
      "cell_type": "code",
      "metadata": {
        "id": "hMUU5tX0v3ZZ",
        "colab_type": "code",
        "colab": {
          "base_uri": "https://localhost:8080/",
          "height": 221
        },
        "outputId": "16ba76b2-a7bb-409b-cc39-066ef7e1e8e8"
      },
      "source": [
        "!pip install pandas requests bs4"
      ],
      "execution_count": 1,
      "outputs": [
        {
          "output_type": "stream",
          "text": [
            "Requirement already satisfied: pandas in /usr/local/lib/python3.6/dist-packages (1.0.4)\n",
            "Requirement already satisfied: requests in /usr/local/lib/python3.6/dist-packages (2.23.0)\n",
            "Requirement already satisfied: bs4 in /usr/local/lib/python3.6/dist-packages (0.0.1)\n",
            "Requirement already satisfied: pytz>=2017.2 in /usr/local/lib/python3.6/dist-packages (from pandas) (2018.9)\n",
            "Requirement already satisfied: numpy>=1.13.3 in /usr/local/lib/python3.6/dist-packages (from pandas) (1.18.5)\n",
            "Requirement already satisfied: python-dateutil>=2.6.1 in /usr/local/lib/python3.6/dist-packages (from pandas) (2.8.1)\n",
            "Requirement already satisfied: idna<3,>=2.5 in /usr/local/lib/python3.6/dist-packages (from requests) (2.9)\n",
            "Requirement already satisfied: chardet<4,>=3.0.2 in /usr/local/lib/python3.6/dist-packages (from requests) (3.0.4)\n",
            "Requirement already satisfied: urllib3!=1.25.0,!=1.25.1,<1.26,>=1.21.1 in /usr/local/lib/python3.6/dist-packages (from requests) (1.24.3)\n",
            "Requirement already satisfied: certifi>=2017.4.17 in /usr/local/lib/python3.6/dist-packages (from requests) (2020.4.5.2)\n",
            "Requirement already satisfied: beautifulsoup4 in /usr/local/lib/python3.6/dist-packages (from bs4) (4.6.3)\n",
            "Requirement already satisfied: six>=1.5 in /usr/local/lib/python3.6/dist-packages (from python-dateutil>=2.6.1->pandas) (1.12.0)\n"
          ],
          "name": "stdout"
        }
      ]
    },
    {
      "cell_type": "code",
      "metadata": {
        "id": "nziCMUqxwOdm",
        "colab_type": "code",
        "colab": {}
      },
      "source": [
        "import bs4\n",
        "import pandas\n",
        "import requests"
      ],
      "execution_count": 1,
      "outputs": []
    },
    {
      "cell_type": "code",
      "metadata": {
        "id": "GlouO0sLwadM",
        "colab_type": "code",
        "colab": {}
      },
      "source": [
        "headers = {'User-Agent': 'Mozilla/5.0 (Windows NT 10.0; Win64; x64) AppleWebKit/537.36 (KHTML, like Gecko) Chrome/83.0.4103.106 Safari/537.36'}\n",
        "\n",
        "def get_page_content(url):\n",
        "   page = requests.get(url,headers=headers)\n",
        "   return page.json()"
      ],
      "execution_count": 2,
      "outputs": []
    },
    {
      "cell_type": "code",
      "metadata": {
        "id": "NKTgEHgVwgR5",
        "colab_type": "code",
        "colab": {}
      },
      "source": [
        "dataset = []\n",
        "\n",
        "url_catogery = ['section/politics', 'department/entertainment', 'section/huffpost-personal']\n",
        "\n",
        "for url_name in url_catogery:\n",
        "  url = 'https://www.huffpost.com/api/' + url_name + '/cards?page=2&limit=10'\n",
        "  for i in range(3, 500):\n",
        "    try:\n",
        "      data = get_page_content(url)\n",
        "    except:\n",
        "      continue\n",
        "    for item in data[\"cards\"]:\n",
        "      try:\n",
        "        dataset.append((item[\"headlines\"][0][\"text\"], item[\"headlines\"][0][\"url\"]))\n",
        "      except:\n",
        "        continue\n",
        "    url = 'https://www.huffpost.com/api/' + url_name + '/cards?page=' + str(i) + '&limit=10'\n"
      ],
      "execution_count": 3,
      "outputs": []
    },
    {
      "cell_type": "code",
      "metadata": {
        "id": "hcagvHZcwl20",
        "colab_type": "code",
        "colab": {
          "base_uri": "https://localhost:8080/",
          "height": 51
        },
        "outputId": "9bed39c6-5ed4-4083-bf6a-f2f87849aeac"
      },
      "source": [
        "print(len(dataset))\n",
        "dataset = list(set(dataset))\n",
        "print(len(dataset))\n",
        "\n",
        "titles = [item[0] for item in dataset]\n",
        "article_link = [item[1] for item in dataset]\n",
        "\n",
        "is_sarcastic = [ 0 for _ in range(len(dataset))]\n",
        "my_dataset = pandas.DataFrame({'is_sarcastic': is_sarcastic,\n",
        "    'titles':titles, \n",
        "    'article_link': article_link})"
      ],
      "execution_count": 5,
      "outputs": [
        {
          "output_type": "stream",
          "text": [
            "868\n",
            "792\n"
          ],
          "name": "stdout"
        }
      ]
    },
    {
      "cell_type": "code",
      "metadata": {
        "id": "btpbQO-mwtTm",
        "colab_type": "code",
        "colab": {
          "base_uri": "https://localhost:8080/",
          "height": 204
        },
        "outputId": "d1f87b7d-24b7-4164-ee6b-4e2496281911"
      },
      "source": [
        "print(my_dataset['titles'][:10])"
      ],
      "execution_count": 6,
      "outputs": [
        {
          "output_type": "stream",
          "text": [
            "0    When My Child Came Out As Transgender, I Worri...\n",
            "1    Chris Hayes Goes To Town On ‘Morally Odious’ B...\n",
            "2    It Was Hard Living Paycheck To Paycheck Before...\n",
            "3    Lady Antebellum Changes Name To Lady A After R...\n",
            "4    Late Show Hosts Expose The Big Problem With Jo...\n",
            "5    Symbol In The Sky? Largest Free-Flying America...\n",
            "6    Chris D'Elia Responds To Claims He Sexually Ha...\n",
            "7    The One Crucial Step Gov. Cuomo Hasn't Taken T...\n",
            "8    ‘That 70s Show’ Actor Danny Masterson Charged ...\n",
            "9    Obama Says We Should Learn 'Impatience' From Y...\n",
            "Name: titles, dtype: object\n"
          ],
          "name": "stdout"
        }
      ]
    },
    {
      "cell_type": "code",
      "metadata": {
        "id": "hzlSwAPAwtxC",
        "colab_type": "code",
        "colab": {}
      },
      "source": [
        "my_dataset.to_csv(\"huffpost_titles.csv\")"
      ],
      "execution_count": 7,
      "outputs": []
    }
  ]
}