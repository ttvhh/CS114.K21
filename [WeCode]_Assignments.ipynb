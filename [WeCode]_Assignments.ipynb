{
  "nbformat": 4,
  "nbformat_minor": 0,
  "metadata": {
    "colab": {
      "name": "[WeCode]_Assignments.ipynb",
      "provenance": [],
      "collapsed_sections": [],
      "include_colab_link": true
    },
    "kernelspec": {
      "name": "python3",
      "display_name": "Python 3"
    }
  },
  "cells": [
    {
      "cell_type": "markdown",
      "metadata": {
        "id": "view-in-github",
        "colab_type": "text"
      },
      "source": [
        "<a href=\"https://colab.research.google.com/github/ttvhh/CS114.K21/blob/master/%5BWeCode%5D_Assignments.ipynb\" target=\"_parent\"><img src=\"https://colab.research.google.com/assets/colab-badge.svg\" alt=\"Open In Colab\"/></a>"
      ]
    },
    {
      "cell_type": "markdown",
      "metadata": {
        "id": "6QdJpDMSGKyP",
        "colab_type": "text"
      },
      "source": [
        "#[ **ASSIGMENT #1**]\n",
        "\n",
        "Problem 1: Đổi độ K sang độ F và độ C\n"
      ]
    },
    {
      "cell_type": "code",
      "metadata": {
        "id": "LEvZ8jodFL6V",
        "colab_type": "code",
        "colab": {}
      },
      "source": [
        "#Problem 1: Kevin - Farenheit - Celsius"
      ],
      "execution_count": 0,
      "outputs": []
    },
    {
      "cell_type": "markdown",
      "metadata": {
        "id": "hh2tovk1Gaev",
        "colab_type": "text"
      },
      "source": [
        "Problem 2: Độ đo áp suât SI/PSI"
      ]
    },
    {
      "cell_type": "code",
      "metadata": {
        "id": "8iIi9MOmGsO-",
        "colab_type": "code",
        "colab": {}
      },
      "source": [
        "#Problem 2: SI/PSI\n",
        "\n",
        "def psConversion(ps):\n"
      ],
      "execution_count": 0,
      "outputs": []
    },
    {
      "cell_type": "markdown",
      "metadata": {
        "id": "Q__4xSqfIaSU",
        "colab_type": "text"
      },
      "source": [
        "Problem 7: Tổng ước số"
      ]
    },
    {
      "cell_type": "code",
      "metadata": {
        "id": "XXp97PVpIf1U",
        "colab_type": "code",
        "colab": {}
      },
      "source": [
        "#Problem 7: Sum of divisor\n",
        "\n",
        "def sumOfDivisors(n):\n",
        "  Sum = 0\n",
        "  for i in range(1,n):\n",
        "    if(n % i == 0):\n",
        "      Sum += i\n",
        "    return Sum\n",
        "\n",
        "sumOfDivisors(5)\n"
      ],
      "execution_count": 0,
      "outputs": []
    },
    {
      "cell_type": "markdown",
      "metadata": {
        "id": "MjZYFLXQPe3g",
        "colab_type": "text"
      },
      "source": [
        "Problem 8: Số Fibonacci"
      ]
    },
    {
      "cell_type": "code",
      "metadata": {
        "id": "YFh4Wx8rPi-1",
        "colab_type": "code",
        "colab": {}
      },
      "source": [
        "#Problem 8: Fibonacci\n",
        "\n",
        "x = int(input())\n",
        "\n",
        "if(x < 1 or x > 30):\n",
        "  print(\"So \" + str(x) + \" khong nam trong khoang [1,30].\")\n",
        "elif(x >= 1 and x <=30):\n",
        "  if(x <= 2):\n",
        "    print(1)\n",
        "  elif(x > 2):\n",
        "    a1 = 1\n",
        "    a2 = 1\n",
        "    i = 3\n",
        "    a = 0\n",
        "    \n",
        "    while(i <= x):\n",
        "      a = a1 + a2\n",
        "      a1 = a2\n",
        "      a2 = a\n",
        "      i+=1\n",
        "\n",
        "    print(a)\n",
        "\n"
      ],
      "execution_count": 0,
      "outputs": []
    },
    {
      "cell_type": "markdown",
      "metadata": {
        "id": "b0NedtSmcEct",
        "colab_type": "text"
      },
      "source": [
        "Problem 3: Gà và chó"
      ]
    },
    {
      "cell_type": "code",
      "metadata": {
        "id": "R12Q7Ug_cIbT",
        "colab_type": "code",
        "colab": {}
      },
      "source": [
        "#Problem 3: Chicken and Dog\n",
        "\n",
        "xxx, yy = map(int,input().split())\n",
        "\n",
        "chickens = int( ((4 * xxx) - yy) / 2)\n",
        "dogs = int( (yy - (2 * xxx)) / 2)\n",
        "\n",
        "print(chickens, dogs)"
      ],
      "execution_count": 0,
      "outputs": []
    },
    {
      "cell_type": "markdown",
      "metadata": {
        "id": "Btd44befkeaY",
        "colab_type": "text"
      },
      "source": [
        "#[ **ASSIGMENT #2**]\n"
      ]
    },
    {
      "cell_type": "markdown",
      "metadata": {
        "id": "kjScxQaTmTIQ",
        "colab_type": "text"
      },
      "source": [
        "Problem 2: Số gần như may mắn\n"
      ]
    },
    {
      "cell_type": "code",
      "metadata": {
        "id": "PwGr24iBmXRt",
        "colab_type": "code",
        "outputId": "42dae879-13e0-42be-b3f8-79c312ec4fd7",
        "colab": {
          "base_uri": "https://localhost:8080/",
          "height": 51
        }
      },
      "source": [
        "#Problem 2: if number of given number's digits is one of the two lucky numbers:\n",
        "#           4 or 7\n",
        "\n",
        "n = int(input())\n",
        "\n",
        "count = 0\n",
        "while(n != 0):\n",
        "  tmp = n\n",
        "  tmp = tmp % 10\n",
        "  if(tmp == 7 or tmp == 4):\n",
        "    count = count + 1\n",
        "    n = n // 10\n",
        "  else:\n",
        "    n = n // 10\n",
        "\n",
        "if(count == 7 or count == 4):\n",
        "  print(\"YES\")\n",
        "else:\n",
        "  print(\"NO\")"
      ],
      "execution_count": 0,
      "outputs": [
        {
          "output_type": "stream",
          "text": [
            "347\n",
            "NO\n"
          ],
          "name": "stdout"
        }
      ]
    },
    {
      "cell_type": "markdown",
      "metadata": {
        "id": "VED5R9v6mMNZ",
        "colab_type": "text"
      },
      "source": [
        "Problem 4: Xếp que diêm"
      ]
    },
    {
      "cell_type": "code",
      "metadata": {
        "id": "crRS--lvk63A",
        "colab_type": "code",
        "colab": {}
      },
      "source": [
        "#Problem 4: \n",
        "\n",
        "q = int(input())\n",
        "arr = []\n",
        "for _ in range(q):\n",
        "  n = int(input())\n",
        "  arr.append(n)\n",
        "\n",
        "\n",
        "for i in range(0, len(arr)):\n",
        "  if(arr[i] == 2):\n",
        "    print(2)\n",
        "  elif(arr[i] > 2 and arr[i] % 2 == 1):\n",
        "    print(1)  \n",
        "  elif(arr[i] > 2 and arr[i] % 2 == 0):\n",
        "    print(0)\n"
      ],
      "execution_count": 0,
      "outputs": []
    },
    {
      "cell_type": "markdown",
      "metadata": {
        "id": "7zJHVlGPpIsS",
        "colab_type": "text"
      },
      "source": [
        "Problem 7: Số nguyên tố lớn thứ hai"
      ]
    },
    {
      "cell_type": "code",
      "metadata": {
        "id": "W6UXW8ODpHl3",
        "colab_type": "code",
        "colab": {}
      },
      "source": [
        "#Problem 7: The second biggest prime number smaller than given n\n",
        "\n",
        "n = int(input())\n",
        "ar = []\n",
        "for num in range(0, n):\n",
        "   if num > 1:\n",
        "       for i in range(2, num):\n",
        "           if (num % i) == 0:\n",
        "               break\n",
        "       else:\n",
        "        ar.append(num)   \n",
        "\n",
        "print(ar[len(ar)-2])"
      ],
      "execution_count": 0,
      "outputs": []
    },
    {
      "cell_type": "markdown",
      "metadata": {
        "id": "guV2MoQvYkLe",
        "colab_type": "text"
      },
      "source": [
        "Problem 9: Số Amstrong"
      ]
    },
    {
      "cell_type": "code",
      "metadata": {
        "id": "_8aRdf2hYrqh",
        "colab_type": "code",
        "colab": {}
      },
      "source": [
        "n = int(input())\n",
        "\n",
        "\n",
        "count = 0\n",
        "tmp = n\n",
        "while(tmp != 0):\n",
        "  tmp = tmp // 10\n",
        "  count = count + 1\n",
        "  \n",
        "x = n  \n",
        "amsSum = 0\n",
        "\n",
        "while(x != 0):\n",
        "  amsSum = amsSum + ((x % 10)**count)  \n",
        "  x = x // 10\n",
        "\n",
        "if(amsSum == n):\n",
        "  print(\"YES\")\n",
        "else:\n",
        "  print(\"NO\")"
      ],
      "execution_count": 0,
      "outputs": []
    },
    {
      "cell_type": "markdown",
      "metadata": {
        "id": "fR-e-LIZpJlL",
        "colab_type": "text"
      },
      "source": [
        "#[ **ASSIGMENT #3**]\n"
      ]
    },
    {
      "cell_type": "markdown",
      "metadata": {
        "id": "wrcQVSxJpap0",
        "colab_type": "text"
      },
      "source": [
        "Problem 8: Trộn dãy\n"
      ]
    },
    {
      "cell_type": "code",
      "metadata": {
        "id": "ke_VgA40pdty",
        "colab_type": "code",
        "colab": {}
      },
      "source": [
        "#Problem: combine two different arrays then sort it\n",
        "\n",
        "arr = list(map(int, input().split()))\n",
        "\n",
        "print(arr)\n",
        "  "
      ],
      "execution_count": 0,
      "outputs": []
    },
    {
      "cell_type": "markdown",
      "metadata": {
        "id": "8-7FrTBIMkEr",
        "colab_type": "text"
      },
      "source": [
        "Problem 10: Rút gọn phân số"
      ]
    },
    {
      "cell_type": "code",
      "metadata": {
        "id": "R8xQbo5WMqJ5",
        "colab_type": "code",
        "colab": {}
      },
      "source": [
        "#Problem 10: print fraction between the two given numbers\n",
        "\n",
        "def greatestCommonDivisor(a,b):\n",
        "  if(b == 0):\n",
        "    return a\n",
        "  else:\n",
        "    return (greatestCommonDivisor(b, a % b))\n",
        "\n",
        "def printFraction(a,b):\n",
        "  gcd = greatestCommonDivisor(a,b)\n",
        "  if(b // gcd > 1):\n",
        "    return (a // gcd, b // gcd)\n",
        "  else:\n",
        "    return a // gcd\n",
        "\n",
        "a, b = map(int, input().split())\n",
        "print(printFraction(a,b))\n"
      ],
      "execution_count": 0,
      "outputs": []
    }
  ]
}