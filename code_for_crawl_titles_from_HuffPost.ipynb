{
  "nbformat": 4,
  "nbformat_minor": 0,
  "metadata": {
    "colab": {
      "name": "code_for_crawl_titles_from_HuffPost.ipynb",
      "provenance": [],
      "include_colab_link": true
    },
    "kernelspec": {
      "name": "python3",
      "display_name": "Python 3"
    }
  },
  "cells": [
    {
      "cell_type": "markdown",
      "metadata": {
        "id": "view-in-github",
        "colab_type": "text"
      },
      "source": [
        "<a href=\"https://colab.research.google.com/github/ttvhh/CS114.K21/blob/master/code_for_crawl_titles_from_HuffPost.ipynb\" target=\"_parent\"><img src=\"https://colab.research.google.com/assets/colab-badge.svg\" alt=\"Open In Colab\"/></a>"
      ]
    },
    {
      "cell_type": "code",
      "metadata": {
        "id": "x29oW97W2Clh",
        "colab_type": "code",
        "colab": {
          "base_uri": "https://localhost:8080/",
          "height": 238
        },
        "outputId": "316f9d02-3dc2-4121-ddc9-2919085bda8f"
      },
      "source": [
        "!pip install pandas requests bs4"
      ],
      "execution_count": null,
      "outputs": [
        {
          "output_type": "stream",
          "text": [
            "Requirement already satisfied: pandas in /usr/local/lib/python3.6/dist-packages (1.0.4)\n",
            "Requirement already satisfied: requests in /usr/local/lib/python3.6/dist-packages (2.23.0)\n",
            "Requirement already satisfied: bs4 in /usr/local/lib/python3.6/dist-packages (0.0.1)\n",
            "Requirement already satisfied: python-dateutil>=2.6.1 in /usr/local/lib/python3.6/dist-packages (from pandas) (2.8.1)\n",
            "Requirement already satisfied: pytz>=2017.2 in /usr/local/lib/python3.6/dist-packages (from pandas) (2018.9)\n",
            "Requirement already satisfied: numpy>=1.13.3 in /usr/local/lib/python3.6/dist-packages (from pandas) (1.18.5)\n",
            "Requirement already satisfied: certifi>=2017.4.17 in /usr/local/lib/python3.6/dist-packages (from requests) (2020.4.5.2)\n",
            "Requirement already satisfied: urllib3!=1.25.0,!=1.25.1,<1.26,>=1.21.1 in /usr/local/lib/python3.6/dist-packages (from requests) (1.24.3)\n",
            "Requirement already satisfied: idna<3,>=2.5 in /usr/local/lib/python3.6/dist-packages (from requests) (2.9)\n",
            "Requirement already satisfied: chardet<4,>=3.0.2 in /usr/local/lib/python3.6/dist-packages (from requests) (3.0.4)\n",
            "Requirement already satisfied: beautifulsoup4 in /usr/local/lib/python3.6/dist-packages (from bs4) (4.6.3)\n",
            "Requirement already satisfied: six>=1.5 in /usr/local/lib/python3.6/dist-packages (from python-dateutil>=2.6.1->pandas) (1.12.0)\n"
          ],
          "name": "stdout"
        }
      ]
    },
    {
      "cell_type": "code",
      "metadata": {
        "id": "r1ADqbmA2Gxa",
        "colab_type": "code",
        "colab": {}
      },
      "source": [
        "import bs4\n",
        "import pandas\n",
        "import requests"
      ],
      "execution_count": null,
      "outputs": []
    },
    {
      "cell_type": "code",
      "metadata": {
        "id": "PwDVN9F8IAQz",
        "colab_type": "code",
        "colab": {}
      },
      "source": [
        "headers = {'User-Agent': 'Mozilla/5.0 (Windows NT 10.0; Win64; x64) AppleWebKit/537.36 (KHTML, like Gecko) Chrome/83.0.4103.106 Safari/537.36'}\n",
        "\n",
        "def get_page_content(url):\n",
        "   page = requests.get(url,headers=headers)\n",
        "   return page.json()"
      ],
      "execution_count": null,
      "outputs": []
    },
    {
      "cell_type": "code",
      "metadata": {
        "id": "FU1i_uErVAT1",
        "colab_type": "code",
        "colab": {}
      },
      "source": [
        "dataset = []\n",
        "\n",
        "url_catogery = ['section/politics', 'department/entertainment', 'section/huffpost-personal']\n",
        "\n",
        "for url_name in url_catogery:\n",
        "  url = 'https://www.huffpost.com/api/' + url_name + '/cards?page=2&limit=10'\n",
        "  for i in range(3, 500):\n",
        "    try:\n",
        "      data = get_page_content(url)\n",
        "    except:\n",
        "      continue\n",
        "    for item in data[\"cards\"]:\n",
        "      try:\n",
        "        dataset.append((item[\"headlines\"][0][\"text\"], item[\"headlines\"][0][\"url\"]))\n",
        "      except:\n",
        "        continue\n",
        "    url = 'https://www.huffpost.com/api/' + url_name + '/cards?page=' + str(i) + '&limit=10'\n"
      ],
      "execution_count": null,
      "outputs": []
    },
    {
      "cell_type": "code",
      "metadata": {
        "id": "bEpUK54WLQ_n",
        "colab_type": "code",
        "colab": {
          "base_uri": "https://localhost:8080/",
          "height": 50
        },
        "outputId": "15fe01cd-67d8-46d2-d32e-e73f2b484b0f"
      },
      "source": [
        "print(len(dataset))\n",
        "dataset = list(set(dataset))\n",
        "print(len(dataset))\n",
        "\n",
        "titles = [item[0] for item in dataset]\n",
        "article_link = [item[1] for item in dataset]\n",
        "\n",
        "is_sarcastic = [ 0 for _ in range(len(dataset))]\n",
        "my_dataset = pandas.DataFrame({'is_sarcastic': is_sarcastic,\n",
        "    'titles':titles, \n",
        "    'article_link': article_link})\n"
      ],
      "execution_count": null,
      "outputs": [
        {
          "output_type": "stream",
          "text": [
            "873\n",
            "782\n"
          ],
          "name": "stdout"
        }
      ]
    },
    {
      "cell_type": "code",
      "metadata": {
        "id": "Mf7Bg6KpUKXE",
        "colab_type": "code",
        "colab": {
          "base_uri": "https://localhost:8080/",
          "height": 54
        },
        "outputId": "1035c637-8783-4bfa-8a9f-835e6aa86092"
      },
      "source": [
        "print(my_dataset['article_link'][2])"
      ],
      "execution_count": null,
      "outputs": [
        {
          "output_type": "stream",
          "text": [
            "https://www.huffpost.com/entry/joe-biden-calls-on-facebook-to-change-political-speech-rules_n_5ee34999c5b6e2c08f834354\n"
          ],
          "name": "stdout"
        }
      ]
    },
    {
      "cell_type": "code",
      "metadata": {
        "id": "n6McFbizLyy-",
        "colab_type": "code",
        "colab": {}
      },
      "source": [
        "my_dataset.to_csv(\"huffpost_titles.csv\")"
      ],
      "execution_count": null,
      "outputs": []
    }
  ]
}