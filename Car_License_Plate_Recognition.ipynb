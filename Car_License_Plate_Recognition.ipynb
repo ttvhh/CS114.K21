{
  "nbformat": 4,
  "nbformat_minor": 0,
  "metadata": {
    "colab": {
      "name": "Car_License_Plate_Recognition.ipynb",
      "provenance": [],
      "toc_visible": true,
      "include_colab_link": true
    },
    "kernelspec": {
      "name": "python3",
      "display_name": "Python 3"
    }
  },
  "cells": [
    {
      "cell_type": "markdown",
      "metadata": {
        "id": "view-in-github",
        "colab_type": "text"
      },
      "source": [
        "<a href=\"https://colab.research.google.com/github/ttvhh/CS114.K21/blob/master/Car_License_Plate_Recognition.ipynb\" target=\"_parent\"><img src=\"https://colab.research.google.com/assets/colab-badge.svg\" alt=\"Open In Colab\"/></a>"
      ]
    },
    {
      "cell_type": "markdown",
      "metadata": {
        "id": "-fBUWB2WBa0h",
        "colab_type": "text"
      },
      "source": [
        "# **Automatic License Plate Recognition**"
      ]
    },
    {
      "cell_type": "markdown",
      "metadata": {
        "id": "GQX05HIHCKfu",
        "colab_type": "text"
      },
      "source": [
        "## **Phần I - Mô tả đồ án**\n",
        "\n",
        "*   List item\n",
        "*   List item\n",
        "\n"
      ]
    },
    {
      "cell_type": "markdown",
      "metadata": {
        "id": "Wct75Ao7BmnE",
        "colab_type": "text"
      },
      "source": [
        "# **Phần II: Các bước thực hiện đồ án**\n",
        "\n",
        "*   Bước 1: Chuẩn bị dữ liệu là các chữ số nhằm mục đích train cho model có thể nhận diện được các ký tự. Sau đó lưu ra file riêng.\n",
        "\n",
        "*   Bước 2: Train model với dữ liệu đã có.\n",
        "\n",
        "*   Bước 3: Đưa một file ảnh, trong đó là ảnh toàn cảnh của chiếc xe hoặc có thể là một phần chiếc xe (có bao gồm biển số xe cần nhận diện).\n",
        "\n",
        "*   Bước 4: Để có thể tách biển số ra khỏi ảnh và thực hiện skew ảnh.\n",
        "\n",
        "*   Bước 5: Thực hiện grayscale sau đó threshold để có thể phân tách trắng đen và đồng thời khử nhiễu càng nhiều càng tốt.\n",
        "\n",
        "*   Bước 6: Tìm các contour trong ảnh sau khi đã được grayscale và threshold. Giữ các contour có khả năng cao là chữ số.\n",
        "\n",
        "*   Bước 7: Nhận diện các contour được giữ lại bằng model đã qua quá trình training ở bước 2.\n",
        "\n",
        "*   Bước 8: In ra các số liệu cần thiết và kết quả biển số nhận diện được ra màn hình.\n",
        "\n",
        "\n"
      ]
    },
    {
      "cell_type": "code",
      "metadata": {
        "id": "s10tze2jx13M",
        "colab_type": "code",
        "colab": {}
      },
      "source": [
        "from google.colab import drive\n",
        "drive.mount('/content/drive')"
      ],
      "execution_count": null,
      "outputs": []
    },
    {
      "cell_type": "code",
      "metadata": {
        "id": "tzYdrq_FsxxO",
        "colab_type": "code",
        "colab": {}
      },
      "source": [
        "!git clone https://github.com/ttvhh/CS114.K21"
      ],
      "execution_count": null,
      "outputs": []
    },
    {
      "cell_type": "markdown",
      "metadata": {
        "id": "QWRcNui4h7VR",
        "colab_type": "text"
      },
      "source": [
        "Giải nén dataset"
      ]
    },
    {
      "cell_type": "code",
      "metadata": {
        "id": "14g1w4r8h6om",
        "colab_type": "code",
        "colab": {}
      },
      "source": [
        "!unrar x \"/content/CS114.K21/Automatic_License_Plate_Detection_SVM/data.rar\" \"/content/CS114.K21/Automatic_License_Plate_Detection_SVM/\""
      ],
      "execution_count": null,
      "outputs": []
    },
    {
      "cell_type": "code",
      "metadata": {
        "id": "XydUBNu7vdPg",
        "colab_type": "code",
        "colab": {}
      },
      "source": [
        "!pip install -r /content/CS114.K21/Automatic_License_Plate_Detection_SVM/setup.txt"
      ],
      "execution_count": null,
      "outputs": []
    },
    {
      "cell_type": "markdown",
      "metadata": {
        "id": "TH6mod-VByXs",
        "colab_type": "text"
      },
      "source": [
        "## **Phần III: Hiện thực đồ án**\n",
        "\n",
        "### 1.   Chuẩn bị dữ liệu\n",
        "\n",
        "\n",
        "\n"
      ]
    },
    {
      "cell_type": "markdown",
      "metadata": {
        "id": "uP8ejLAexz-a",
        "colab_type": "text"
      },
      "source": [
        "#### 1.1 Cài đặt thư viện cần thiết"
      ]
    },
    {
      "cell_type": "code",
      "metadata": {
        "id": "bpkTMxavx-i3",
        "colab_type": "code",
        "colab": {}
      },
      "source": [
        "import cv2\n",
        "import os\n",
        "import numpy as np\n",
        "import glob"
      ],
      "execution_count": null,
      "outputs": []
    },
    {
      "cell_type": "markdown",
      "metadata": {
        "id": "w8zVAekqyBMT",
        "colab_type": "text"
      },
      "source": [
        "#### 1.2 Lấy dữ liệu các ký tự"
      ]
    },
    {
      "cell_type": "code",
      "metadata": {
        "id": "v5ZdWsuNyJ2f",
        "colab_type": "code",
        "colab": {}
      },
      "source": [
        "digit_w = 30\n",
        "digit_h = 60\n",
        "\n",
        "write_path=\"/content/CS114.K21/Automatic_License_Plate_Detection_SVM/data\"\n",
        "\n",
        "def get_digit_data(path):#:, digit_list, label_list):\n",
        "\n",
        "    digit_list = []\n",
        "    label_list = []\n",
        "\n",
        "    for number in range(10):\n",
        "        i=0\n",
        "        for img_org_path in glob.iglob(path + str(number) + '/*.jpg'):\n",
        "            print(img_org_path)\n",
        "            img = cv2.imread(img_org_path, 0)\n",
        "            img = np.array(img)\n",
        "            img = img.reshape(-1, digit_h * digit_w)\n",
        "\n",
        "            print(img.shape)\n",
        "\n",
        "            digit_list.append(img)\n",
        "            label_list.append([int(number)])\n",
        "\n",
        "    for number in range(65, 91):\n",
        "        #number = chr(number)\n",
        "        print(number)\n",
        "        i=0\n",
        "        for img_org_path in glob.iglob(path + str(number) + '/*.jpg'):\n",
        "            print(img_org_path)\n",
        "            img = cv2.imread(img_org_path, 0)\n",
        "            img = np.array(img)\n",
        "            img = img.reshape(-1, digit_h * digit_w)\n",
        "\n",
        "            print(img.shape)\n",
        "\n",
        "            digit_list.append(img)\n",
        "            label_list.append([int(number)])\n",
        "\n",
        "    return  digit_list, label_list"
      ],
      "execution_count": null,
      "outputs": []
    },
    {
      "cell_type": "markdown",
      "metadata": {
        "id": "8XTdW0jmyRZb",
        "colab_type": "text"
      },
      "source": [
        "#### 1.3 Train SVM model"
      ]
    },
    {
      "cell_type": "code",
      "metadata": {
        "id": "I2c2R2QryVUr",
        "colab_type": "code",
        "colab": {}
      },
      "source": [
        "#lấy dữ liệu\n",
        "digit_path = \"/content/CS114.K21/Automatic_License_Plate_Detection_SVM/data/\"\n",
        "digit_list, label_list = get_digit_data(digit_path)\n",
        "\n",
        "digit_list = np.array(digit_list, dtype=np.float32)\n",
        "digit_list = digit_list.reshape(-1, digit_h * digit_w)\n",
        "\n",
        "label_list = np.array(label_list)\n",
        "label_list = label_list.reshape(-1, 1)\n",
        "\n",
        "svm_model = cv2.ml.SVM_create()\n",
        "svm_model.setType(cv2.ml.SVM_C_SVC)\n",
        "svm_model.setKernel(cv2.ml.SVM_INTER)\n",
        "svm_model.setTermCriteria((cv2.TERM_CRITERIA_MAX_ITER, 100, 1e-6))\n",
        "svm_model.train(digit_list, cv2.ml.ROW_SAMPLE, label_list)\n",
        "\n",
        "svm_model.save(\"svm.xml\")"
      ],
      "execution_count": null,
      "outputs": []
    },
    {
      "cell_type": "markdown",
      "metadata": {
        "id": "Qa6lo3Sa3jVt",
        "colab_type": "text"
      },
      "source": [
        "Tổng hợp"
      ]
    },
    {
      "cell_type": "code",
      "metadata": {
        "id": "74Yk_uSAwdfh",
        "colab_type": "code",
        "colab": {}
      },
      "source": [
        "import cv2\n",
        "import os\n",
        "import numpy as np\n",
        "import glob\n",
        "\n",
        "digit_w = 30\n",
        "digit_h = 60\n",
        "\n",
        "write_path=\"/content/CS114.K21/Automatic_License_Plate_Detection_SVM/data\"\n",
        "\n",
        "def get_digit_data(path):#:, digit_list, label_list):\n",
        "\n",
        "    digit_list = []\n",
        "    label_list = []\n",
        "\n",
        "    for number in range(10):\n",
        "        i=0\n",
        "        for img_org_path in glob.iglob(path + str(number) + '/*.jpg'):\n",
        "            print(img_org_path)\n",
        "            img = cv2.imread(img_org_path, 0)\n",
        "            img = np.array(img)\n",
        "            img = img.reshape(-1, digit_h * digit_w)\n",
        "\n",
        "            print(img.shape)\n",
        "\n",
        "            digit_list.append(img)\n",
        "            label_list.append([int(number)])\n",
        "\n",
        "    for number in range(65, 91):\n",
        "        #number = chr(number)\n",
        "        print(number)\n",
        "        i=0\n",
        "        for img_org_path in glob.iglob(path + str(number) + '/*.jpg'):\n",
        "            print(img_org_path)\n",
        "            img = cv2.imread(img_org_path, 0)\n",
        "            img = np.array(img)\n",
        "            img = img.reshape(-1, digit_h * digit_w)\n",
        "\n",
        "            print(img.shape)\n",
        "\n",
        "            digit_list.append(img)\n",
        "            label_list.append([int(number)])\n",
        "\n",
        "    return  digit_list, label_list\n",
        "\n",
        "#lấy dữ liệu\n",
        "digit_path = \"/content/CS114.K21/Automatic_License_Plate_Detection_SVM/data/\"\n",
        "digit_list, label_list = get_digit_data(digit_path)\n",
        "\n",
        "digit_list = np.array(digit_list, dtype=np.float32)\n",
        "digit_list = digit_list.reshape(-1, digit_h * digit_w)\n",
        "\n",
        "label_list = np.array(label_list)\n",
        "label_list = label_list.reshape(-1, 1)\n",
        "\n",
        "svm_model = cv2.ml.SVM_create()\n",
        "svm_model.setType(cv2.ml.SVM_C_SVC)\n",
        "svm_model.setKernel(cv2.ml.SVM_INTER)\n",
        "svm_model.setTermCriteria((cv2.TERM_CRITERIA_MAX_ITER, 100, 1e-6))\n",
        "svm_model.train(digit_list, cv2.ml.ROW_SAMPLE, label_list)\n",
        "\n",
        "svm_model.save(\"svm.xml\")\n",
        "\n",
        "\n",
        "#BATCH_SIZE = 64\n",
        "\n",
        "#my_checkpointer = [\n",
        "#                EarlyStopping(monitor='val_loss', patience=5, verbose=0),\n",
        "#                ModelCheckpoint(filepath=\"License_character_recognition.h5\", verbose=1, save_weights_only=True)\n",
        "#               ]\n",
        "\n",
        "#result = model.fit(image_gen.flow(trainX, trainY, batch_size=BATCH_SIZE), \n",
        " #                  steps_per_epoch=len(trainX) // BATCH_SIZE, \n",
        " #                  validation_data=(testX, testY), \n",
        " #                  validation_steps=len(testX) // BATCH_SIZE, \n",
        " #                  epochs=EPOCHS, callbacks=my_checkpointer)"
      ],
      "execution_count": null,
      "outputs": []
    },
    {
      "cell_type": "markdown",
      "metadata": {
        "id": "Jn9iTKfwQNGS",
        "colab_type": "text"
      },
      "source": [
        "### **2. Xử lý biển số**\n",
        "\n",
        "Truóc khi bắt đầu, ta cần áp dụng một số kỹ thuật xử lý để giảm nhiễu (noise) và làm nổi bật các đặc trưng chính (key features) của các ký tự cần nhận dạng. \n",
        "\n",
        "*   Load ảnh\n",
        "*   Tách biển số bằng WPOD\n",
        "*   Grayscale, threshold và khử nhiễu\n",
        "*   Tìm contour\n",
        "\n",
        "Quá trình này sẽ hiện thực một số kĩ thuật sau:\n",
        "1. 255-scale Conversion\n",
        "2. Grayscale Conversion\n",
        "3. Blurring\n",
        "4. Threshold Binary, Imvetered"
      ]
    },
    {
      "cell_type": "markdown",
      "metadata": {
        "id": "lkPBe9LSQ3Rx",
        "colab_type": "text"
      },
      "source": [
        "#### 2.1 Load ảnh\n"
      ]
    },
    {
      "cell_type": "code",
      "metadata": {
        "id": "HUC5-OdZxrfT",
        "colab_type": "code",
        "colab": {}
      },
      "source": [
        "# Đường dẫn ảnh\n",
        "img_path = \"/content/CS114.K21/Automatic_License_Plate_Detection_SVM/test/test.jpg\"\n",
        "\n",
        "# Load pre-trained license plate detecting model (WPOD-net)\n",
        "wpod_net_path = \"/content/CS114.K21/Automatic_License_Plate_Detection_SVM/wpod-net_update1.json\"\n",
        "wpod_net = load_model(wpod_net_path)\n",
        "\n",
        "# Đọc file ảnh đầu vào\n",
        "Ivehicle = cv2.imread(img_path)\n",
        "\n",
        "# Kích thước lớn nhất và nhỏ nhất của 1 chiều ảnh\n",
        "Dmax = 608\n",
        "Dmin = 288\n",
        "\n",
        "# Lấy tỷ lệ giữa W và H của ảnh và tìm ra chiều nhỏ nhất\n",
        "ratio = float(max(Ivehicle.shape[:2])) / min(Ivehicle.shape[:2])\n",
        "side = int(ratio * Dmin)\n",
        "bound_dim = min(side, Dmax)\n",
        "\n",
        "_ , LpImg, lp_type = detect_lp(wpod_net, im2single(Ivehicle), bound_dim, lp_threshold=0.5)"
      ],
      "execution_count": null,
      "outputs": []
    },
    {
      "cell_type": "markdown",
      "metadata": {
        "id": "7ZGxbOVj0MzP",
        "colab_type": "text"
      },
      "source": [
        "##### 2.1.1 Cấu hình tham số cho model SVM"
      ]
    },
    {
      "cell_type": "code",
      "metadata": {
        "id": "83bHYPuc0PPl",
        "colab_type": "code",
        "colab": {}
      },
      "source": [
        "# Cấu hình tham số cho OCR model (SVM)\n",
        "\n",
        "# Kích thước kí tự\n",
        "digit_w = 30 # Width\n",
        "digit_h = 60 # Height\n",
        "\n",
        "# Load model\n",
        "model_svm = cv2.ml.SVM_load('/content/CS114.K21/Automatic_License_Plate_Detection_SVM/svm.xml')"
      ],
      "execution_count": null,
      "outputs": []
    },
    {
      "cell_type": "markdown",
      "metadata": {
        "id": "KZb6W0rr1oa_",
        "colab_type": "text"
      },
      "source": [
        "##### 2.1.2 Loại bỏ các ký tự không hợp lý\n",
        "\n",
        "Ở bước này, ta cần phải kiểm tra xem trên biển số có thể tồn tại những ký tự không hợp lý hay không.\n",
        "\n",
        "Do đó, nguyên lý cơ bản là ta cần phải tạo hàm ```fine_tune``` để kiểm tra các ký tự hợp lệ (được gán trong biến ```char_list``` ở bên dưới rồi gán sang một string khác, còn các ký tự không hợp lệ đã tự động được loại bỏ."
      ]
    },
    {
      "cell_type": "code",
      "metadata": {
        "id": "qft6ta7U1ruK",
        "colab_type": "code",
        "colab": {}
      },
      "source": [
        "# Định nghĩa các ký tự có mặt trên biển số\n",
        "char_list =  '0123456789ABCDEFGHKLMNPRSTUVXYZ'\n",
        "\n",
        "# Ham fine tune bien so, loai bo cac ki tu khong hop ly\n",
        "def fine_tune(lp):\n",
        "    newString = \"\"\n",
        "    for i in range(len(lp)):\n",
        "        if lp[i] in char_list:\n",
        "            newString += lp[i]\n",
        "    return newString"
      ],
      "execution_count": null,
      "outputs": []
    },
    {
      "cell_type": "markdown",
      "metadata": {
        "id": "8QRLXxspRBIr",
        "colab_type": "text"
      },
      "source": [
        "#### 2.2 Tách biển số\n",
        "\n",
        "Sử dụng WPOD để thực hiện công việc tách biển số ra từ tấm hình đầu vào"
      ]
    },
    {
      "cell_type": "code",
      "metadata": {
        "id": "GsUNrhlL58mA",
        "colab_type": "code",
        "colab": {}
      },
      "source": [
        "Cài đặt một số thư viện"
      ],
      "execution_count": null,
      "outputs": []
    },
    {
      "cell_type": "code",
      "metadata": {
        "id": "UKUkOGxU6A3p",
        "colab_type": "code",
        "colab": {}
      },
      "source": [
        "# pylint: disable=invalid-name, redefined-outer-name, missing-docstring, non-parent-init-called, trailing-whitespace, line-too-long\n",
        "from os.path import splitext\n",
        "import cv2\n",
        "import numpy as np\n",
        "from keras.models import model_from_json"
      ],
      "execution_count": null,
      "outputs": []
    },
    {
      "cell_type": "markdown",
      "metadata": {
        "id": "zSEzm0UZ6GTC",
        "colab_type": "text"
      },
      "source": [
        "Load model.\n",
        "\n",
        "Model này đã được xây dựng sẵn."
      ]
    },
    {
      "cell_type": "code",
      "metadata": {
        "id": "RNLfY6ut6R0l",
        "colab_type": "code",
        "colab": {}
      },
      "source": [
        "def load_model(path):\n",
        "    path = splitext(path)[0]\n",
        "    with open('%s.json' % path, 'r') as json_file:\n",
        "        model_json = json_file.read()\n",
        "    model = model_from_json(model_json, custom_objects={})\n",
        "    model.load_weights('%s.h5' % path)\n",
        "    return model"
      ],
      "execution_count": null,
      "outputs": []
    },
    {
      "cell_type": "code",
      "metadata": {
        "id": "pAhu6hvIzYQ0",
        "colab_type": "code",
        "colab": {
          "base_uri": "https://localhost:8080/",
          "height": 34
        },
        "outputId": "3a33cdff-0412-4c2c-bd74-d349dd05f8aa"
      },
      "source": [
        "# pylint: disable=invalid-name, redefined-outer-name, missing-docstring, non-parent-init-called, trailing-whitespace, line-too-long\n",
        "from os.path import splitext\n",
        "import cv2\n",
        "import numpy as np\n",
        "from keras.models import model_from_json\n",
        "\n",
        "\n",
        "class Label:\n",
        "    def __init__(self, cl=-1, tl=np.array([0., 0.]), br=np.array([0., 0.]), prob=None):\n",
        "        self.__tl = tl\n",
        "        self.__br = br\n",
        "        self.__cl = cl\n",
        "        self.__prob = prob\n",
        "\n",
        "    def __str__(self):\n",
        "        return 'Class: %d, top left(x: %f, y: %f), bottom right(x: %f, y: %f)' % (\n",
        "        self.__cl, self.__tl[0], self.__tl[1], self.__br[0], self.__br[1])\n",
        "\n",
        "    def copy(self):\n",
        "        return Label(self.__cl, self.__tl, self.__br)\n",
        "\n",
        "    def wh(self): return self.__br - self.__tl\n",
        "\n",
        "    def cc(self): return self.__tl + self.wh() / 2\n",
        "\n",
        "    def tl(self): return self.__tl\n",
        "\n",
        "    def br(self): return self.__br\n",
        "\n",
        "    def tr(self): return np.array([self.__br[0], self.__tl[1]])\n",
        "\n",
        "    def bl(self): return np.array([self.__tl[0], self.__br[1]])\n",
        "\n",
        "    def cl(self): return self.__cl\n",
        "\n",
        "    def area(self): return np.prod(self.wh())\n",
        "\n",
        "    def prob(self): return self.__prob\n",
        "\n",
        "    def set_class(self, cl):\n",
        "        self.__cl = cl\n",
        "\n",
        "    def set_tl(self, tl):\n",
        "        self.__tl = tl\n",
        "\n",
        "    def set_br(self, br):\n",
        "        self.__br = br\n",
        "\n",
        "    def set_wh(self, wh):\n",
        "        cc = self.cc()\n",
        "        self.__tl = cc - .5 * wh\n",
        "        self.__br = cc + .5 * wh\n",
        "\n",
        "    def set_prob(self, prob):\n",
        "        self.__prob = prob\n",
        "\n",
        "class DLabel(Label):\n",
        "    def __init__(self, cl, pts, prob):\n",
        "        self.pts = pts\n",
        "        tl = np.amin(pts, axis=1)\n",
        "        br = np.amax(pts, axis=1)\n",
        "        Label.__init__(self, cl, tl, br, prob)\n",
        "\n",
        "# Hàm normalize ảnh\n",
        "def im2single(Image):\n",
        "    return Image.astype('float32') / 255\n",
        "\n",
        "def getWH(shape):\n",
        "    return np.array(shape[1::-1]).astype(float)\n",
        "\n",
        "def IOU(tl1, br1, tl2, br2):\n",
        "    wh1, wh2 = br1-tl1, br2-tl2\n",
        "    assert((wh1 >= 0).all() and (wh2 >= 0).all())\n",
        "    \n",
        "    intersection_wh = np.maximum(np.minimum(br1, br2) - np.maximum(tl1, tl2), 0)\n",
        "    intersection_area = np.prod(intersection_wh)\n",
        "    area1, area2 = (np.prod(wh1), np.prod(wh2))\n",
        "    union_area = area1 + area2 - intersection_area\n",
        "    return intersection_area/union_area\n",
        "\n",
        "def IOU_labels(l1, l2):\n",
        "    return IOU(l1.tl(), l1.br(), l2.tl(), l2.br())\n",
        "\n",
        "def nms(Labels, iou_threshold=0.5):\n",
        "    SelectedLabels = []\n",
        "    Labels.sort(key=lambda l: l.prob(), reverse=True)\n",
        "    \n",
        "    for label in Labels:\n",
        "        non_overlap = True\n",
        "        for sel_label in SelectedLabels:\n",
        "            if IOU_labels(label, sel_label) > iou_threshold:\n",
        "                non_overlap = False\n",
        "                break\n",
        "\n",
        "        if non_overlap:\n",
        "            SelectedLabels.append(label)\n",
        "    return SelectedLabels\n",
        "\n",
        "def load_model(path):\n",
        "    path = splitext(path)[0]\n",
        "    with open('%s.json' % path, 'r') as json_file:\n",
        "        model_json = json_file.read()\n",
        "    model = model_from_json(model_json, custom_objects={})\n",
        "    model.load_weights('%s.h5' % path)\n",
        "    return model\n",
        "\n",
        "def find_T_matrix(pts, t_pts):\n",
        "    A = np.zeros((8, 9))\n",
        "    for i in range(0, 4):\n",
        "        xi = pts[:, i]\n",
        "        xil = t_pts[:, i]\n",
        "        xi = xi.T\n",
        "        \n",
        "        A[i*2, 3:6] = -xil[2]*xi\n",
        "        A[i*2, 6:] = xil[1]*xi\n",
        "        A[i*2+1, :3] = xil[2]*xi\n",
        "        A[i*2+1, 6:] = -xil[0]*xi\n",
        "\n",
        "    [U, S, V] = np.linalg.svd(A)\n",
        "    H = V[-1, :].reshape((3, 3))\n",
        "    return H\n",
        "\n",
        "def getRectPts(tlx, tly, brx, bry):\n",
        "    return np.matrix([[tlx, brx, brx, tlx], [tly, tly, bry, bry], [1, 1, 1, 1]], dtype=float)\n",
        "\n",
        "def normal(pts, side, mn, MN):\n",
        "    pts_MN_center_mn = pts * side\n",
        "    pts_MN = pts_MN_center_mn + mn.reshape((2, 1))\n",
        "    pts_prop = pts_MN / MN.reshape((2, 1))\n",
        "    return pts_prop\n",
        "\n",
        "# Hàm tái tạo từ predict value thành biến số, cắt từ ảnh chính ra biển số,  nhãn...\n",
        "def reconstruct(I, Iresized, Yr, lp_threshold):\n",
        "    # 4 max-pooling layers, stride = 2\n",
        "    net_stride = 2**4\n",
        "    side = ((208 + 40)/2)/net_stride\n",
        "\n",
        "    # one line and two lines license plate size\n",
        "    one_line = (470, 110)\n",
        "    two_lines = (280, 200)\n",
        "\n",
        "    Probs = Yr[..., 0]\n",
        "    Affines = Yr[..., 2:]\n",
        "\n",
        "    xx, yy = np.where(Probs > lp_threshold)\n",
        "    # CNN input image size \n",
        "    WH = getWH(Iresized.shape)\n",
        "    # output feature map size\n",
        "    MN = WH/net_stride\n",
        "\n",
        "    vxx = vyy = 0.5 #alpha\n",
        "    base = lambda vx, vy: np.matrix([[-vx, -vy, 1], [vx, -vy, 1], [vx, vy, 1], [-vx, vy, 1]]).T\n",
        "    labels = []\n",
        "    labels_frontal = []\n",
        "\n",
        "    for i in range(len(xx)):\n",
        "        x, y = xx[i], yy[i]\n",
        "        affine = Affines[x, y]\n",
        "        prob = Probs[x, y]\n",
        "\n",
        "        mn = np.array([float(y) + 0.5, float(x) + 0.5])\n",
        "\n",
        "        # affine transformation matrix\n",
        "        A = np.reshape(affine, (2, 3))\n",
        "        A[0, 0] = max(A[0, 0], 0)\n",
        "        A[1, 1] = max(A[1, 1], 0)\n",
        "        # identity transformation\n",
        "        B = np.zeros((2, 3))\n",
        "        B[0, 0] = max(A[0, 0], 0)\n",
        "        B[1, 1] = max(A[1, 1], 0)\n",
        "\n",
        "        pts = np.array(A*base(vxx, vyy))\n",
        "        pts_frontal = np.array(B*base(vxx, vyy))\n",
        "\n",
        "        pts_prop = normal(pts, side, mn, MN)\n",
        "        frontal = normal(pts_frontal, side, mn, MN)\n",
        "\n",
        "        labels.append(DLabel(0, pts_prop, prob))\n",
        "        labels_frontal.append(DLabel(0, frontal, prob))\n",
        "\n",
        "    final_labels = nms(labels, 0.1)\n",
        "    final_labels_frontal = nms(labels_frontal, 0.1)\n",
        "\n",
        "    print(final_labels_frontal)\n",
        "\n",
        "\n",
        "    # LP size and type\n",
        "    out_size, lp_type = (two_lines, 2) if ((final_labels_frontal[0].wh()[0] / final_labels_frontal[0].wh()[1]) < 1.7) else (one_line, 1)\n",
        "\n",
        "    TLp = []\n",
        "    if len(final_labels):\n",
        "        final_labels.sort(key=lambda x: x.prob(), reverse=True)\n",
        "        for _, label in enumerate(final_labels):\n",
        "            t_ptsh = getRectPts(0, 0, out_size[0], out_size[1])\n",
        "            ptsh = np.concatenate((label.pts * getWH(I.shape).reshape((2, 1)), np.ones((1, 4))))\n",
        "            H = find_T_matrix(ptsh, t_ptsh)\n",
        "\n",
        "            Ilp = cv2.warpPerspective(I, H, out_size, borderValue=0)\n",
        "            TLp.append(Ilp)\n",
        "    print(final_labels)\n",
        "    return final_labels, TLp, lp_type\n",
        "\n",
        "def detect_lp(model, I, max_dim, lp_threshold):\n",
        "\n",
        "    # Tính factor resize ảnh\n",
        "    min_dim_img = min(I.shape[:2])\n",
        "    factor = float(max_dim) / min_dim_img\n",
        "\n",
        "    # Tính W và H mới sau khi resize\n",
        "    w, h = (np.array(I.shape[1::-1], dtype=float) * factor).astype(int).tolist()\n",
        "\n",
        "    # Tiến hành resize ảnh\n",
        "    Iresized = cv2.resize(I, (w, h))\n",
        "\n",
        "    T = Iresized.copy()\n",
        "\n",
        "    # Chuyển thành Tensor\n",
        "    T = T.reshape((1, T.shape[0], T.shape[1], T.shape[2]))\n",
        "\n",
        "    # Tiến hành detect biển số bằng Wpod-net pretrain\n",
        "    Yr = model.predict(T)\n",
        "\n",
        "    # Remove các chiều =1 của Yr\n",
        "    Yr = np.squeeze(Yr)\n",
        "\n",
        "    print(Yr.shape)\n",
        "\n",
        "    # Tái tạo và trả về các biến gồm: Nhãn, Ảnh biến số, Loại biển số (1: dài: 2 vuông)\n",
        "    L, TLp, lp_type = reconstruct(I, Iresized, Yr, lp_threshold)\n",
        "\n",
        "    return L, TLp, lp_type"
      ],
      "execution_count": null,
      "outputs": [
        {
          "output_type": "stream",
          "text": [
            "Using TensorFlow backend.\n"
          ],
          "name": "stderr"
        }
      ]
    },
    {
      "cell_type": "markdown",
      "metadata": {
        "id": "JpFyoVVEzlVM",
        "colab_type": "text"
      },
      "source": [
        "#### 2.3 Scale Conversion\n",
        "\n"
      ]
    },
    {
      "cell_type": "code",
      "metadata": {
        "id": "N7-SdeyNzncr",
        "colab_type": "code",
        "colab": {}
      },
      "source": [
        "# Chuyển đổi ảnh biển số\n",
        "# Scale, tính toán các giá trị tuyệt đối và sau đó chuyển đổi kết quả sang dạng 8-bit\n",
        "LpImg[0] = cv2.convertScaleAbs(LpImg[0], alpha=(255.0))\n",
        "\n",
        "roi = LpImg[0]"
      ],
      "execution_count": null,
      "outputs": []
    },
    {
      "cell_type": "markdown",
      "metadata": {
        "id": "fHrdTYNkRExp",
        "colab_type": "text"
      },
      "source": [
        "#### 2.3 Grayscale\n",
        "\n",
        "Trong xử lý ảnh, việc chuyển đổi ảnh màu sang ảnh xám là công việc vô cùng phổ biến. Ảnh màu thực chất là tập hợp của nhiều ma trận có cùng kích thước.\n",
        "\n",
        "Công việc xử lý thông tin trên ảnh sẽ trở nên dễ dàng hơn nếu ta chỉ cần xử lý dữ liệu trên một ma trận số thay vì nhiều ma trận số. \n",
        "\n",
        "Do đó, việc biến đổi ảnh màu về ảnh số (Grayscale Conversion) chính là biến đổi thông tin ảnh về một ma trận số hai chiều duy nhất\n",
        "\n",
        "Hiện thực: sử dụng câu lệnh \n",
        "> ``` cvtColor(source, dest, mode) ```\n",
        "\n",
        "*   ```source``` : ảnh màu gốc\n",
        "*   ```dest``` : ảnh xám đã chuyển đổi\n",
        "*   ```mode``` : độ chuyển đổi màu\n",
        "*   Ở đây, ta dùng chế độ ```CV_BGR2GRAY``` để chuyển từ ảnh mày từ format RGB (Red - Green - Blue) sang ảnh xám (Gray)\n",
        "\n",
        "\n",
        "\n",
        "\n"
      ]
    },
    {
      "cell_type": "code",
      "metadata": {
        "id": "eg5jX9XVxCo3",
        "colab_type": "code",
        "colab": {}
      },
      "source": [
        "# Áp dụng kỹ thuật Grayscale Conversion để chuyển đổi ảnh biển số về ảnh xám\n",
        "gray = cv2.cvtColor( LpImg[0], cv2.COLOR_BGR2GRAY)\n"
      ],
      "execution_count": null,
      "outputs": []
    },
    {
      "cell_type": "markdown",
      "metadata": {
        "id": "2dJJehjjz6lx",
        "colab_type": "text"
      },
      "source": [
        "#### 2.4 Inverted Threshold Binary\n",
        "\n",
        "Ảnh đen trắng thường được ứng dụng trong bài toán phân vùng ảnh (Image Segmentation).\n",
        "\n",
        "Ảnh đen trắng chỉ có hai màu là màu đen với giá trị là ```0``` và màu trắng với giá trị là ```255```. \n",
        "\n",
        "Do đó ta phải tìm cách biến đổi ảnh xám đã được chuyển đổi ở bước trên (hay là một ma trận 2 chiều với mỗi ô (pixel) có giá trị trong khoảng ```0-255``` thành một ma trận 2 chiều với mỗi ô có giá trị bây giờ chỉ là ```0``` hoặc ```255```.\n",
        "\n",
        "Vì vậy, ở bước này, ta cần đưa ra một ngưỡng (threshold) nhằm mục đích xác định trên ảnh đâu là điểm ảnh màu đen và đâu là điểm ảnh màu trắng\n",
        "\n",
        "Ở đây ta dùng kỹ thuật ***Threshold Binary, Inverted***:\n",
        "\n",
        ">pixel(x,y) = 0 nếu gray(x,y) > threshold\n",
        "\n",
        ">pixel(x,y) = 255 nếu gray(x,y) <= threshold\n",
        "\n",
        "Hiện thực:\n",
        "\n",
        "> ```threshold(src, dst, thres, max_val, type)```\n",
        "\n",
        "*   ```src```: ảnh xám gốc\n",
        "*   ```dst```: ảnh đen trắng đã thay đổi\n",
        "*   ```thres```: ngưỡng \n",
        "*   ```max_val```: ngưỡng trắng\n",
        "*   ```type```: loại biến đổi. Ở đây ```type = 1```, tức biến đổi đen trắng ngược với định nghĩa ở trên\n"
      ]
    },
    {
      "cell_type": "code",
      "metadata": {
        "id": "xgFMlXUNxI7w",
        "colab_type": "code",
        "colab": {}
      },
      "source": [
        "# Áp dụng Threshold Binary, Inverted để phân tách số và nền\n",
        "binary = cv2.threshold(gray, 127, 255, cv2.THRESH_BINARY_INV)[1]\n",
        "\n",
        "plt.imshow(binary)"
      ],
      "execution_count": null,
      "outputs": []
    },
    {
      "cell_type": "markdown",
      "metadata": {
        "id": "KeFxt9TgRJr5",
        "colab_type": "text"
      },
      "source": [
        "#### 2.4 Tìm Contours\n",
        "\n",
        "Sử dụng hàm ```findContours``` của OpenCV để xác định những tọa độ điểm của các ký tự. Hàm này được xây dựng dựa trên lý thuyết đơn giản: contour là tập các điểm liên tục tạo thành đường cong (curve) - boundary mà có đặc điểm chung là các điểm có cùng/gần xấp xỉ một giá trị màu sắc, hoặc cùng mật độ (intensity).\n",
        "\n",
        "> ```findContours(bin_img, type, method)```\n",
        "\n",
        "*   ```bin_img```: ảnh nhị phân gốc\n",
        "*   ```type```: dạng contour. Ở bài này dùng ```RETR_LIST```\n",
        "*   ```method```: phương thức. Ở bài này dùng ```CHAIN_APPROX_SIMPLE```\n",
        "\n"
      ]
    },
    {
      "cell_type": "code",
      "metadata": {
        "id": "wLrZItcWwt5H",
        "colab_type": "code",
        "colab": {}
      },
      "source": [
        "# Segment kí tự / Apply dilation\n",
        "kernel3 = cv2.getStructuringElement(cv2.MORPH_RECT, (3, 3))\n",
        "thre_mor = cv2.morphologyEx(binary, cv2.MORPH_DILATE, kernel3)\n",
        "cont, _  = cv2.findContours(thre_mor, cv2.RETR_LIST, cv2.CHAIN_APPROX_SIMPLE)"
      ],
      "execution_count": null,
      "outputs": []
    },
    {
      "cell_type": "markdown",
      "metadata": {
        "id": "S5bcfSsGviVG",
        "colab_type": "text"
      },
      "source": [
        "Ở đây ta tạo một hàm ```sort_contours``` duyệt hết các contour tìm được từ trái sang phải. Điều này quan trọng vì ta không chỉ muốn nhận dạng ký tự mà còn mong muốn sắp xếp chúng theo đúng trật tự. \n",
        "\n"
      ]
    },
    {
      "cell_type": "code",
      "metadata": {
        "id": "47H3lthPwYan",
        "colab_type": "code",
        "colab": {}
      },
      "source": [
        "# Ham sap xep contour tu trai sang phai\n",
        "def sort_contours(cnts):\n",
        "\n",
        "    reverse = False\n",
        "    i = 0\n",
        "    boundingBoxes = [cv2.boundingRect(c) for c in cnts]\n",
        "    (cnts, boundingBoxes) = zip(*sorted(zip(cnts, boundingBoxes),\n",
        "                                        key=lambda b: b[1][i], reverse=reverse))\n",
        "    return cnts"
      ],
      "execution_count": null,
      "outputs": []
    },
    {
      "cell_type": "markdown",
      "metadata": {
        "id": "6Zdb_2btwdm-",
        "colab_type": "text"
      },
      "source": [
        "Bởi vì ta biết rằng height của ký tự có giá trị lớn hơn width nên ta có thể lọc những contours không liên quan bằng cách chỉ chọn những contours có tỉ lệ height/width nằm trong khoảng ```1-3.5``` \n",
        "\n",
        "\n",
        "Hơn nữa, ta cũng biết rằng mỗi ký tự trong biển số có height lớn hơn 1 nửa chiều cao thật của biển số, vì vậy ta có thể chọn thêm các contour có giá trị height từ 60% giá trị height của biển số.\n",
        "\n",
        "Sau khi xử lý các contours ở trên, trích xuất các giá trị cần thiết và đưa vào model SVM đã thực hiện công hiện predict đó là chữ số nào.\n",
        "\n",
        "Cuối cùng chính là ghép cả chuỗi số lại rồi hiển thị ra màn hình giá trị của biển số."
      ]
    },
    {
      "cell_type": "code",
      "metadata": {
        "id": "50Y1P_A1z4gI",
        "colab_type": "code",
        "colab": {}
      },
      "source": [
        "plate_info = \"\"\n",
        "\n",
        "for c in sort_contours(cont):\n",
        "    (x, y, w, h) = cv2.boundingRect(c)\n",
        "    ratio = h/w\n",
        "      if 1.5<=ratio<=3.5: # Chon cac contour dam bao ve ratio w/h\n",
        "        if h/roi.shape[0]>=0.6: # Chon cac contour cao tu 60% bien so tro len\n",
        "\n",
        "            # Ve khung chu nhat quanh so\n",
        "            cv2.rectangle(roi, (x, y), (x + w, y + h), (0, 255, 0), 2)\n",
        "\n",
        "            # Tach so va predict\n",
        "            curr_num = thre_mor[y:y+h,x:x+w]\n",
        "            curr_num = cv2.resize(curr_num, dsize=(digit_w, digit_h))\n",
        "                \n",
        "            # Ap dung ROI \n",
        "            _, curr_num = cv2.threshold(curr_num, 30, 255, cv2.THRESH_BINARY)\n",
        "            curr_num = np.array(curr_num,dtype=np.float32)\n",
        "            curr_num = curr_num.reshape(-1, digit_w * digit_h)\n",
        "\n",
        "            # Dua vao model SVM\n",
        "            result = model_svm.predict(curr_num)[1]\n",
        "            result = int(result[0, 0])\n",
        "\n",
        "            if result<=9: # Neu la so thi hien thi luon\n",
        "                result = str(result)\n",
        "            else: #Neu la chu thi chuyen bang ASCII\n",
        "                result = chr(result)\n",
        "\n",
        "            plate_info +=result\n",
        "\n",
        "plt.imshow(roi)"
      ],
      "execution_count": null,
      "outputs": []
    },
    {
      "cell_type": "markdown",
      "metadata": {
        "id": "KRLSB42cRQah",
        "colab_type": "text"
      },
      "source": [
        "### **3. Hiển thị**"
      ]
    },
    {
      "cell_type": "code",
      "metadata": {
        "id": "4yQTxXHoxf9M",
        "colab_type": "code",
        "colab": {}
      },
      "source": [
        "    # Viet bien so len anh\n",
        "    cv2.putText(Ivehicle,fine_tune(plate_info),(50, 50), cv2.FONT_HERSHEY_PLAIN, 3.0, (0, 0, 255), lineType=cv2.LINE_AA)\n",
        "\n",
        "    # Hien thi anh\n",
        "    print(\"Bien so=\", plate_info)\n",
        "    plt.imshow(Ivehicle)"
      ],
      "execution_count": null,
      "outputs": []
    },
    {
      "cell_type": "markdown",
      "metadata": {
        "id": "iuW7wuuO2iDF",
        "colab_type": "text"
      },
      "source": [
        "Tổng hợp"
      ]
    },
    {
      "cell_type": "code",
      "metadata": {
        "id": "0IAtJZwGw8KA",
        "colab_type": "code",
        "colab": {}
      },
      "source": [
        "from google.colab.patches import cv2_imshow\n",
        "import cv2\n",
        "import numpy as np\n",
        "import matplotlib.pyplot as plt\n",
        "#from lib_detection.py import load_model, detect_lp, im2single\n",
        "\n",
        "\n",
        "# Ham sap xep contour tu trai sang phai\n",
        "def sort_contours(cnts):\n",
        "\n",
        "    reverse = False\n",
        "    i = 0\n",
        "    boundingBoxes = [cv2.boundingRect(c) for c in cnts]\n",
        "    (cnts, boundingBoxes) = zip(*sorted(zip(cnts, boundingBoxes),\n",
        "                                        key=lambda b: b[1][i], reverse=reverse))\n",
        "    return cnts\n",
        "\n",
        "# Dinh nghia cac ky tu tren bien so\n",
        "char_list =  '0123456789ABCDEFGHKLMNPRSTUVXYZ'\n",
        "\n",
        "# Ham fine tune bien so, loai bo cac ki tu khong hop ly\n",
        "def fine_tune(lp):\n",
        "    newString = \"\"\n",
        "    for i in range(len(lp)):\n",
        "        if lp[i] in char_list:\n",
        "            newString += lp[i]\n",
        "    return newString\n",
        "\n",
        "# Đường dẫn ảnh, các bạn đổi tên file tại đây để thử nhé\n",
        "img_path = \"/content/CS114.K21/Automatic_License_Plate_Detection_SVM/test/test.jpg\"\n",
        "\n",
        "# Load model LP detection\n",
        "wpod_net_path = \"/content/CS114.K21/Automatic_License_Plate_Detection_SVM/wpod-net_update1.json\"\n",
        "wpod_net = load_model(wpod_net_path)\n",
        "\n",
        "# Đọc file ảnh đầu vào\n",
        "Ivehicle = cv2.imread(img_path)\n",
        "\n",
        "# Kích thước lớn nhất và nhỏ nhất của 1 chiều ảnh\n",
        "Dmax = 608\n",
        "Dmin = 288\n",
        "\n",
        "# Lấy tỷ lệ giữa W và H của ảnh và tìm ra chiều nhỏ nhất\n",
        "ratio = float(max(Ivehicle.shape[:2])) / min(Ivehicle.shape[:2])\n",
        "side = int(ratio * Dmin)\n",
        "bound_dim = min(side, Dmax)\n",
        "\n",
        "_ , LpImg, lp_type = detect_lp(wpod_net, im2single(Ivehicle), bound_dim, lp_threshold=0.5)\n",
        "\n",
        "\n",
        "# Cau hinh tham so cho model SVM\n",
        "digit_w = 30 # Kich thuoc ki tu\n",
        "digit_h = 60 # Kich thuoc ki tu\n",
        "\n",
        "model_svm = cv2.ml.SVM_load('/content/CS114.K21/Automatic_License_Plate_Detection_SVM/svm.xml')\n",
        "\n",
        "if (len(LpImg)):\n",
        "\n",
        "    # Chuyen doi anh bien so / Scales, calculates absolute values and then converts the result to 8-bit\n",
        "    LpImg[0] = cv2.convertScaleAbs(LpImg[0], alpha=(255.0))\n",
        "\n",
        "    roi = LpImg[0]\n",
        "\n",
        "    # Chuyen anh bien so ve gray / Apply grayscale conversion and blue the image\n",
        "    gray = cv2.cvtColor( LpImg[0], cv2.COLOR_BGR2GRAY)\n",
        "\n",
        "\n",
        "    # Ap dung threshold de phan tach so va nen / Apply the inversed thresh binary\n",
        "    binary = cv2.threshold(gray, 127, 255, cv2.THRESH_BINARY_INV)[1]\n",
        "\n",
        "    plt.imshow(binary)\n",
        "    #cv2.imshow(\"Anh bien so sau threshold\", binary)\n",
        "    #cv2.waitKey()\n",
        "\n",
        "    # Segment kí tự / Apply dilation\n",
        "    kernel3 = cv2.getStructuringElement(cv2.MORPH_RECT, (3, 3))\n",
        "    thre_mor = cv2.morphologyEx(binary, cv2.MORPH_DILATE, kernel3)\n",
        "    cont, _  = cv2.findContours(thre_mor, cv2.RETR_LIST, cv2.CHAIN_APPROX_SIMPLE)\n",
        "\n",
        "\n",
        "    plate_info = \"\"\n",
        "\n",
        "    for c in sort_contours(cont):\n",
        "        (x, y, w, h) = cv2.boundingRect(c)\n",
        "        ratio = h/w\n",
        "        if 1.5<=ratio<=3.5: # Chon cac contour dam bao ve ratio w/h\n",
        "            if h/roi.shape[0]>=0.6: # Chon cac contour cao tu 60% bien so tro len\n",
        "\n",
        "                # Ve khung chu nhat quanh so\n",
        "                cv2.rectangle(roi, (x, y), (x + w, y + h), (0, 255, 0), 2)\n",
        "\n",
        "                # Tach so va predict\n",
        "                curr_num = thre_mor[y:y+h,x:x+w]\n",
        "                curr_num = cv2.resize(curr_num, dsize=(digit_w, digit_h))\n",
        "                \n",
        "                # Ap dung ROI \n",
        "                _, curr_num = cv2.threshold(curr_num, 30, 255, cv2.THRESH_BINARY)\n",
        "                curr_num = np.array(curr_num,dtype=np.float32)\n",
        "                curr_num = curr_num.reshape(-1, digit_w * digit_h)\n",
        "\n",
        "                # Dua vao model SVM\n",
        "                result = model_svm.predict(curr_num)[1]\n",
        "                result = int(result[0, 0])\n",
        "\n",
        "                if result<=9: # Neu la so thi hien thi luon\n",
        "                    result = str(result)\n",
        "                else: #Neu la chu thi chuyen bang ASCII\n",
        "                    result = chr(result)\n",
        "\n",
        "                plate_info +=result\n",
        "\n",
        "    plt.imshow(roi)\n",
        "    #cv2.imshow(\"Cac contour tim duoc\", roi)\n",
        "    #cv2.waitKey()\n",
        "\n",
        "    # Viet bien so len anh\n",
        "    cv2.putText(Ivehicle,fine_tune(plate_info),(50, 50), cv2.FONT_HERSHEY_PLAIN, 3.0, (0, 0, 255), lineType=cv2.LINE_AA)\n",
        "\n",
        "    # Hien thi anh\n",
        "    print(\"Bien so=\", plate_info)\n",
        "    #plt.imshow(Ivehicle)\n",
        "    #cv2.imshow(\"Hinh anh output\",Ivehicle)\n",
        "    #cv2.waitKey()\n",
        "\n",
        "#cv2.destroyAllWindows()"
      ],
      "execution_count": null,
      "outputs": []
    }
  ]
}